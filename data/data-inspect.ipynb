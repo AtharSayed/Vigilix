{
 "cells": [
  {
   "cell_type": "code",
   "execution_count": 1,
   "id": "e0fb26da",
   "metadata": {},
   "outputs": [],
   "source": [
    "from pyspark.sql import SparkSession\n",
    "from pyspark.sql.functions import col, count, round"
   ]
  },
  {
   "cell_type": "code",
   "execution_count": 2,
   "id": "a49ca77e",
   "metadata": {},
   "outputs": [],
   "source": [
    "# ✅ Initialize Spark session\n",
    "spark = SparkSession.builder \\\n",
    "    .appName(\"CIC Collection Analysis\") \\\n",
    "    .getOrCreate()\n"
   ]
  },
  {
   "cell_type": "code",
   "execution_count": 3,
   "id": "4b5980d0",
   "metadata": {},
   "outputs": [
    {
     "name": "stdout",
     "output_type": "stream",
     "text": [
      "🔹 Loading dataset...\n",
      "✅ Loaded dataset with 9,167,581 rows and 59 columns\n"
     ]
    }
   ],
   "source": [
    "# Dataset Path\n",
    "path = r\"C:\\Users\\sayed\\Desktop\\L&T-Project\\Vigilix\\data\\raw\\cic-collection.parquet\\cic-collection.parquet\"\n",
    "\n",
    "print(\"🔹 Loading dataset...\")\n",
    "df = spark.read.parquet(path)\n",
    "print(f\"✅ Loaded dataset with {df.count():,} rows and {len(df.columns)} columns\")"
   ]
  },
  {
   "cell_type": "code",
   "execution_count": 4,
   "id": "66f348d3",
   "metadata": {},
   "outputs": [
    {
     "name": "stdout",
     "output_type": "stream",
     "text": [
      "\n",
      "🔹 Columns:\n",
      "['Flow Duration', 'Total Fwd Packets', 'Total Backward Packets', 'Fwd Packets Length Total', 'Bwd Packets Length Total', 'Fwd Packet Length Max', 'Fwd Packet Length Mean', 'Fwd Packet Length Std', 'Bwd Packet Length Max', 'Bwd Packet Length Mean', 'Bwd Packet Length Std', 'Flow Bytes/s', 'Flow Packets/s', 'Flow IAT Mean', 'Flow IAT Std', 'Flow IAT Max', 'Flow IAT Min', 'Fwd IAT Total', 'Fwd IAT Mean', 'Fwd IAT Std', 'Fwd IAT Max', 'Fwd IAT Min', 'Bwd IAT Total', 'Bwd IAT Mean', 'Bwd IAT Std', 'Bwd IAT Max', 'Bwd IAT Min', 'Fwd PSH Flags', 'Fwd Header Length', 'Bwd Header Length', 'Fwd Packets/s', 'Bwd Packets/s', 'Packet Length Max', 'Packet Length Mean', 'Packet Length Std', 'Packet Length Variance', 'SYN Flag Count', 'URG Flag Count', 'Avg Packet Size', 'Avg Fwd Segment Size', 'Avg Bwd Segment Size', 'Subflow Fwd Packets', 'Subflow Fwd Bytes', 'Subflow Bwd Packets', 'Subflow Bwd Bytes', 'Init Fwd Win Bytes', 'Init Bwd Win Bytes', 'Fwd Act Data Packets', 'Fwd Seg Size Min', 'Active Mean', 'Active Std', 'Active Max', 'Active Min', 'Idle Mean', 'Idle Std', 'Idle Max', 'Idle Min', 'Label', 'ClassLabel']\n"
     ]
    }
   ],
   "source": [
    "# 📋 Show column names\n",
    "print(\"\\n🔹 Columns:\")\n",
    "print(df.columns)"
   ]
  },
  {
   "cell_type": "code",
   "execution_count": 5,
   "id": "ef93d90f",
   "metadata": {},
   "outputs": [
    {
     "name": "stdout",
     "output_type": "stream",
     "text": [
      "\n",
      "🔹 Label distribution (%):\n",
      "+--------------------+-------+----------+\n",
      "|Label               |count  |percentage|\n",
      "+--------------------+-------+----------+\n",
      "|Benign              |7186189|78.387    |\n",
      "|DDoS-LOIC-HTTP      |575364 |6.2761    |\n",
      "|DoS-Hulk            |318740 |3.4768    |\n",
      "|DDoS-HOIC           |198861 |2.1692    |\n",
      "|Botnet              |145968 |1.5922    |\n",
      "|DDoS                |128062 |1.3969    |\n",
      "|DDoS-NTP            |121328 |1.3234    |\n",
      "|DDoS-TFTP           |98833  |1.0781    |\n",
      "|Bruteforce-SSH      |97260  |1.0609    |\n",
      "|Infiltration        |94857  |1.0347    |\n",
      "|DoS-Goldeneye       |52324  |0.5708    |\n",
      "|DDoS-Syn            |47757  |0.5209    |\n",
      "|DDoS-UDP            |28863  |0.3148    |\n",
      "|DoS-Slowloris       |15243  |0.1663    |\n",
      "|DDoS-MSSQL          |11784  |0.1285    |\n",
      "|DDoS-UDPLag         |8452   |0.0922    |\n",
      "|Bruteforce-FTP      |5984   |0.0653    |\n",
      "|DoS-Slowhttptest    |5271   |0.0575    |\n",
      "|DDoS-Ddossim        |5115   |0.0558    |\n",
      "|DDoS-DNS            |3668   |0.04      |\n",
      "|DoS-Slowread        |2786   |0.0304    |\n",
      "|Portscan            |2255   |0.0246    |\n",
      "|DDoS-LDAP           |2092   |0.0228    |\n",
      "|Webattack-bruteforce|2020   |0.022     |\n",
      "|DDoS-SNMP           |2017   |0.022     |\n",
      "|DDoS-Slowloris      |1858   |0.0203    |\n",
      "|DoS-Slowheaders     |1649   |0.018     |\n",
      "|Webattack-XSS       |876    |0.0096    |\n",
      "|DoS-Rudy            |699    |0.0076    |\n",
      "|DDoS-NetBIOS        |675    |0.0074    |\n",
      "|DoS-Slowbody        |621    |0.0068    |\n",
      "|Webattack-SQLi      |99     |0.0011    |\n",
      "|DoS-Heartbleed      |11     |1.0E-4    |\n",
      "+--------------------+-------+----------+\n",
      "\n"
     ]
    }
   ],
   "source": [
    "# 📊 Label distribution (percentages)\n",
    "print(\"\\n🔹 Label distribution (%):\")\n",
    "total_count = df.count()\n",
    "df.groupBy(\"Label\") \\\n",
    "  .agg(\n",
    "      count(\"*\").alias(\"count\"),\n",
    "      round((count(\"*\") / total_count) * 100, 4).alias(\"percentage\")\n",
    "  ) \\\n",
    "  .orderBy(col(\"count\").desc()) \\\n",
    "  .show(truncate=False, n=50)"
   ]
  }
 ],
 "metadata": {
  "kernelspec": {
   "display_name": "base",
   "language": "python",
   "name": "python3"
  },
  "language_info": {
   "codemirror_mode": {
    "name": "ipython",
    "version": 3
   },
   "file_extension": ".py",
   "mimetype": "text/x-python",
   "name": "python",
   "nbconvert_exporter": "python",
   "pygments_lexer": "ipython3",
   "version": "3.12.4"
  }
 },
 "nbformat": 4,
 "nbformat_minor": 5
}
